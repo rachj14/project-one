{
 "cells": [
  {
   "cell_type": "code",
   "execution_count": null,
   "metadata": {},
   "outputs": [],
   "source": [
    "# Import dependencies and libraries\n",
    "import pandas as pd\n",
    "import numpy as np\n",
    "import matplotlib.pyplot as plt"
   ]
  },
  {
   "cell_type": "code",
   "execution_count": null,
   "metadata": {},
   "outputs": [],
   "source": [
    "# Load datasets"
   ]
  },
  {
   "cell_type": "code",
   "execution_count": null,
   "metadata": {},
   "outputs": [],
   "source": [
    "# Investigate the structure of each dataset\n",
    "# Handle missing values, duplicates, and any inconsistencies\n",
    "# Standardize column names if needed\n",
    "# Ensure compatibility of data types"
   ]
  },
  {
   "cell_type": "code",
   "execution_count": null,
   "metadata": {},
   "outputs": [],
   "source": [
    "# Load datasets into pandas dataframes"
   ]
  },
  {
   "cell_type": "code",
   "execution_count": null,
   "metadata": {},
   "outputs": [],
   "source": [
    "# Task (Aleksandra): Filter and analyze data related to gender and life expectancy\n",
    "\n",
    "# Perform analysis and visualize the relationship\n"
   ]
  },
  {
   "cell_type": "code",
   "execution_count": null,
   "metadata": {},
   "outputs": [],
   "source": [
    "# Task (Rachel): Filter and analyze data related to health expenditure and life expectancy\n",
    "\n",
    "# Perform analysis and visualize the relationship\n"
   ]
  },
  {
   "cell_type": "code",
   "execution_count": null,
   "metadata": {},
   "outputs": [],
   "source": [
    "# Task (Shawn) Filter and analyze data related to residency location and life expectancy\n",
    "\n",
    "# Perform analysis and visualize the relationship"
   ]
  },
  {
   "cell_type": "code",
   "execution_count": null,
   "metadata": {},
   "outputs": [],
   "source": [
    "# Task (Cristian): Filter and analyze data related to income and life expectancy\n",
    "\n",
    "# Perform analysis and visualize the relationship\n"
   ]
  },
  {
   "cell_type": "code",
   "execution_count": null,
   "metadata": {},
   "outputs": [],
   "source": [
    "# Use Matplotlib, or any other preferred library for visualization\n",
    "# Create relevant plots for each research question\n"
   ]
  },
  {
   "cell_type": "code",
   "execution_count": null,
   "metadata": {},
   "outputs": [],
   "source": [
    "# Calculate median/average values for relevant columns\n",
    "\n",
    "# Repeat for other relevant columns\n"
   ]
  },
  {
   "cell_type": "code",
   "execution_count": null,
   "metadata": {},
   "outputs": [],
   "source": [
    "# Share insights based on visualizations and summary statistics\n",
    "# Discuss preliminary findings with the team\n"
   ]
  },
  {
   "cell_type": "code",
   "execution_count": null,
   "metadata": {},
   "outputs": [],
   "source": [
    "# Write a comprehensive report with key insights\n",
    "# Discuss potential implications of the findings on life expectancy\n"
   ]
  },
  {
   "cell_type": "code",
   "execution_count": null,
   "metadata": {},
   "outputs": [],
   "source": [
    "# Use Markdown cells for documentation in Jupyter Notebook\n",
    "# Create visualizations and insights for the presentation\n"
   ]
  }
 ],
 "metadata": {
  "language_info": {
   "name": "python"
  }
 },
 "nbformat": 4,
 "nbformat_minor": 2
}
